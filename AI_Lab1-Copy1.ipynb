{
 "cells": [
  {
   "cell_type": "markdown",
   "metadata": {},
   "source": [
    "1. Create a list of 5 fruits (make sure to include an apple)."
   ]
  },
  {
   "cell_type": "code",
   "execution_count": 1,
   "metadata": {},
   "outputs": [
    {
     "name": "stdout",
     "output_type": "stream",
     "text": [
      "['apple', 'orange', 'banana', 'grape', 'cherry']\n"
     ]
    }
   ],
   "source": [
    "fruit_list = [\"apple\",\"orange\",\"banana\",\"grape\",\"cherry\"]\n",
    "print (fruit_list)"
   ]
  },
  {
   "cell_type": "markdown",
   "metadata": {},
   "source": [
    "2. Go through each fruit and check if it is an apple. If it is, print out \"I found it!\". If it's not an apple, do nothing.\n"
   ]
  },
  {
   "cell_type": "code",
   "execution_count": 2,
   "metadata": {},
   "outputs": [
    {
     "name": "stdout",
     "output_type": "stream",
     "text": [
      "I found it!\n"
     ]
    }
   ],
   "source": [
    "for i in range(len(fruit_list)):\n",
    "    if str(fruit_list[i])==\"apple\":\n",
    "        print ( \"I found it!\")"
   ]
  },
  {
   "cell_type": "markdown",
   "metadata": {},
   "source": [
    "3. Add two new fruits to your list."
   ]
  },
  {
   "cell_type": "code",
   "execution_count": 3,
   "metadata": {},
   "outputs": [
    {
     "name": "stdout",
     "output_type": "stream",
     "text": [
      "['apple', 'orange', 'banana', 'grape', 'cherry', 'pear', 'kiwi']\n"
     ]
    }
   ],
   "source": [
    "fruit_list .append(\"pear\")\n",
    "fruit_list .append(\"kiwi\")\n",
    "print (fruit_list)"
   ]
  },
  {
   "cell_type": "markdown",
   "metadata": {},
   "source": [
    "4. Create a new empty list. Go through your list of fruits, and for each one, add an entry to the new list that tells us how many letters each fruit name is."
   ]
  },
  {
   "cell_type": "code",
   "execution_count": 4,
   "metadata": {},
   "outputs": [
    {
     "name": "stdout",
     "output_type": "stream",
     "text": [
      "apple has 5 letters.\n",
      "orange has 6 letters.\n",
      "banana has 6 letters.\n",
      "grape has 5 letters.\n",
      "cherry has 6 letters.\n",
      "pear has 4 letters.\n",
      "kiwi has 4 letters.\n"
     ]
    }
   ],
   "source": [
    "letters_num = [5,6,6,5,6,4,4]\n",
    "for i in range (len(fruit_list)):\n",
    "    print(str(fruit_list[i])+\" has \"+str(letters_num[i])+\" letters.\")"
   ]
  },
  {
   "cell_type": "markdown",
   "metadata": {},
   "source": [
    "5. Make a function called half_squared that takes a list and returns a new list where each element of the original is squared and then divided in half."
   ]
  },
  {
   "cell_type": "code",
   "execution_count": 5,
   "metadata": {},
   "outputs": [
    {
     "data": {
      "text/plain": [
       "array([2., 8.])"
      ]
     },
     "execution_count": 5,
     "metadata": {},
     "output_type": "execute_result"
    }
   ],
   "source": [
    "import numpy\n",
    "def half_squared(list): \n",
    "    return(numpy.square(list)/2)\n",
    "half_squared([2,4])"
   ]
  },
  {
   "cell_type": "code",
   "execution_count": 6,
   "metadata": {},
   "outputs": [
    {
     "name": "stdout",
     "output_type": "stream",
     "text": [
      "True\n"
     ]
    }
   ],
   "source": [
    "#test the function\n",
    "if(numpy.all(half_squared([3,3]) == [4.5,4.5])):\n",
    "    print('True')\n",
    "else:\n",
    "    print('False')"
   ]
  },
  {
   "cell_type": "markdown",
   "metadata": {},
   "source": [
    "6.Now practice writing a program that takes as input some students scores and then outputs a grade (A, B, C).\n",
    "If scores >=90 points are represented by A, 60-89 points are represented by B, and 60 points or less are indicated by C.\n",
    "If the input student score is less than 0 greater than 100, make an error message for the user."
   ]
  },
  {
   "cell_type": "code",
   "execution_count": 7,
   "metadata": {},
   "outputs": [
    {
     "name": "stdout",
     "output_type": "stream",
     "text": [
      "input first student's score: 99\n",
      "input second student's score: 88\n",
      "input third student's score: 77\n",
      "the first student got an A \n",
      "the second student got an B \n",
      "the second student got an B \n"
     ]
    }
   ],
   "source": [
    "a = int(input(\"input first student's score: \"))\n",
    "b = int(input(\"input second student's score: \"))\n",
    "c = int(input(\"input third student's score: \"))\n",
    "score_list = [a,b,c]\n",
    "for i in score_list:\n",
    "    if i>=90:\n",
    "        print (\"the first student got an A \")\n",
    "    elif i>60 and i<90:\n",
    "        print (\"the second student got an B \")\n",
    "    else:\n",
    "        print (\"the third student got an C\")\n",
    "\n"
   ]
  },
  {
   "cell_type": "markdown",
   "metadata": {},
   "source": [
    "7.Now using what we just learned try to write a program to take 3 numbers as input and sort them from large to small.\n",
    "For example revSort(12, 4, 32)$ will return (32, 12, 4)"
   ]
  },
  {
   "cell_type": "code",
   "execution_count": 8,
   "metadata": {},
   "outputs": [
    {
     "name": "stdout",
     "output_type": "stream",
     "text": [
      "input first student's score: 99\n",
      "input second student's score: 88\n",
      "input third student's score: 77\n"
     ]
    },
    {
     "data": {
      "text/plain": [
       "(99, 88, 77)"
      ]
     },
     "execution_count": 8,
     "metadata": {},
     "output_type": "execute_result"
    }
   ],
   "source": [
    "a = int(input(\"input first student's score: \"))\n",
    "b = int(input(\"input second student's score: \"))\n",
    "c = int(input(\"input third student's score: \"))\n",
    "def revSort(a,b,c):\n",
    "    max = a\n",
    "    if max<b:\n",
    "        max=b\n",
    "    if max<c:\n",
    "        max=c\n",
    "    min=b\n",
    "    if min>a:\n",
    "        min=a\n",
    "    if min>c:\n",
    "        min=c\n",
    "    return(max,a+b+c-max-min,min)\n",
    "revSort(a,b,c)"
   ]
  },
  {
   "cell_type": "markdown",
   "metadata": {},
   "source": [
    "8.we have created a two-dimensional array through the above progrem,can you traverse this two-dimensional array? For example $arrs = [[1,2,3],[4,5,6]]$ will return 1 2 3 4 5 6"
   ]
  },
  {
   "cell_type": "code",
   "execution_count": 10,
   "metadata": {},
   "outputs": [
    {
     "name": "stdout",
     "output_type": "stream",
     "text": [
      "1 2 3 4 5 "
     ]
    }
   ],
   "source": [
    "list1 = [1,2,3]\n",
    "list2 = [4,5,]\n",
    "array = [list1,list2]\n",
    "for i in list2:\n",
    "    list1.append(i)\n",
    "for j in range (len(list1)):\n",
    "    print(str(list1[j]),end=\" \")"
   ]
  },
  {
   "cell_type": "markdown",
   "metadata": {},
   "source": [
    "9.Observe the following phenomenon: calulate the cube of some number (e.g., 1, 8, 17) , the sum of all digits in this cube equals to the number itself.（the max num is 100,and you should use the map function from above）\n",
    "1^3 = 1\n",
    "8^3 = 512 -> 5+1+2=8\n",
    "17^3 = 4913 -> 4+9+1+3=17"
   ]
  },
  {
   "cell_type": "code",
   "execution_count": 11,
   "metadata": {},
   "outputs": [
    {
     "name": "stdout",
     "output_type": "stream",
     "text": [
      "1^3 = 1 -> sum of digits =1.0\n",
      "8^3 = 512 -> sum of digits =8.0\n",
      "17^3 = 4913 -> sum of digits =17.0\n",
      "18^3 = 5832 -> sum of digits =18.0\n",
      "26^3 = 17576 -> sum of digits =26.0\n",
      "27^3 = 19683 -> sum of digits =27.0\n"
     ]
    }
   ],
   "source": [
    "a=[]\n",
    "for t in range(101):\n",
    "    if t == 0:\n",
    "        continue\n",
    "    a.append(t)\n",
    "def f(x):\n",
    "    return x**3\n",
    "for i in map(f,a):\n",
    "            b1=i//100000  #123456//100000=1\n",
    "            b2=(i-b1*100000)//10000  #(123456-100000)//10000=2\n",
    "            b3=(i-b1*100000-b2*10000)//1000. #=3\n",
    "            b4=(i-b1*100000-b2*10000-b3*1000)//100 #4\n",
    "            b5=(i-b1*100000-b2*10000-b3*1000-b4*100)//10  #5\n",
    "            b6=i-b1*100000-b2*10000-b3*1000-b4*100-b5*10\n",
    "            sum=b1+b2+b3+b4+b5+b6\n",
    "            b=round(i**(1/3))\n",
    "            if sum==b:\n",
    "                print(str(b)+\"^\"+\"3 = \"+str(i)+\" -> \"+ \"sum of digits =\"+str(sum))"
   ]
  },
  {
   "cell_type": "markdown",
   "metadata": {},
   "source": [
    "10.Use the random module to generate two random integers x, y (1-10) and print them value, then exchange them value each other,and print them."
   ]
  },
  {
   "cell_type": "code",
   "execution_count": 12,
   "metadata": {},
   "outputs": [
    {
     "name": "stdout",
     "output_type": "stream",
     "text": [
      "(3, 3)\n"
     ]
    },
    {
     "data": {
      "text/plain": [
       "(3, 3)"
      ]
     },
     "execution_count": 12,
     "metadata": {},
     "output_type": "execute_result"
    }
   ],
   "source": [
    "import random\n",
    "x1 = random.randint(1,10)\n",
    "x2 = random.randint(1,10)\n",
    "list=(x1,x2)\n",
    "print(list)\n",
    "def exchange(a,b):\n",
    "    a,b=b,a\n",
    "    return a,b\n",
    "exchange(x1,x2)"
   ]
  },
  {
   "cell_type": "markdown",
   "metadata": {},
   "source": [
    "11.Please look at the following rules, code output,you can just use the print() without othething,but we will give the loop nesting code to print the diamond."
   ]
  },
  {
   "cell_type": "code",
   "execution_count": 13,
   "metadata": {},
   "outputs": [
    {
     "name": "stdout",
     "output_type": "stream",
     "text": [
      "        *\n",
      "      ***\n",
      "    *****\n",
      "  *******\n",
      "    *****\n",
      "     ***\n",
      "      *\n"
     ]
    }
   ],
   "source": [
    "for i in range(4):\n",
    "    for j in range(0, 8 - i-i):\n",
    "        print(end=\" \")\n",
    "    for k in range(7-i-i, 8):\n",
    "        print(\"*\", end=\"\")\n",
    "    print(\"\")\n",
    "for i in range(3):\n",
    "    for j in range(0,i+4):\n",
    "        print(end=\" \")\n",
    "    for j in range(i+i+1,6):\n",
    "        print(\"*\", end=\"\")\n",
    "    print(\"\")"
   ]
  },
  {
   "cell_type": "markdown",
   "metadata": {},
   "source": [
    "12.Please look at the following rules, Using for loop nested output.\n",
    "123456\n",
    "234561\n",
    "345612\n",
    "456123\n",
    "561234\n",
    "612345"
   ]
  },
  {
   "cell_type": "code",
   "execution_count": 14,
   "metadata": {},
   "outputs": [
    {
     "name": "stdout",
     "output_type": "stream",
     "text": [
      "123456\n",
      "234561\n",
      "345612\n",
      "456123\n",
      "561234\n",
      "612345\n"
     ]
    }
   ],
   "source": [
    "for i in range(1,7):   #i代表着行数\n",
    "    for j in range(i,7):   #j是列数\n",
    "        print(j,end=\"\")\n",
    "    for k in range(1,i):\n",
    "        print(k,end=\"\")\n",
    "    print()"
   ]
  },
  {
   "cell_type": "markdown",
   "metadata": {},
   "source": [
    "13.use the for loop to slice the list ,and The first letter of the output list is capitalized. $players = ['charles','martina','michael','florence','eli']$ For example Charles Martina ..."
   ]
  },
  {
   "cell_type": "code",
   "execution_count": 15,
   "metadata": {},
   "outputs": [
    {
     "name": "stdout",
     "output_type": "stream",
     "text": [
      "Charles Martina Michael Florence Eli "
     ]
    }
   ],
   "source": [
    "players = ['charles','martina','michael','florence','eli']\n",
    "for i in range(0,5):\n",
    "    print(players[i].title(),end=\" \")"
   ]
  }
 ],
 "metadata": {
  "kernelspec": {
   "display_name": "Python 3",
   "language": "python",
   "name": "python3"
  },
  "language_info": {
   "codemirror_mode": {
    "name": "ipython",
    "version": 3
   },
   "file_extension": ".py",
   "mimetype": "text/x-python",
   "name": "python",
   "nbconvert_exporter": "python",
   "pygments_lexer": "ipython3",
   "version": "3.5.5"
  }
 },
 "nbformat": 4,
 "nbformat_minor": 2
}
