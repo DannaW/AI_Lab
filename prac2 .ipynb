{
 "cells": [
  {
   "cell_type": "markdown",
   "metadata": {},
   "source": [
    "# Introduction to Artificial Intelligence for Non Computing"
   ]
  },
  {
   "cell_type": "markdown",
   "metadata": {},
   "source": [
    "## Practical 2 (weeks 3 - 4)"
   ]
  },
  {
   "cell_type": "markdown",
   "metadata": {},
   "source": [
    "## Search Techniques"
   ]
  },
  {
   "cell_type": "markdown",
   "metadata": {},
   "source": [
    "The following links provide additional information about depth first search and breath first search"
   ]
  },
  {
   "cell_type": "markdown",
   "metadata": {},
   "source": [
    "- Depth first search:   link：https://pan.baidu.com/s/1bkLHKKbSBNpfFuKwDyURqw  password：oy76\n",
    "- Breath first search:  link：https://pan.baidu.com/s/176g5q0W3rGbSAM5tZMraeg   password：7mdh"
   ]
  },
  {
   "cell_type": "markdown",
   "metadata": {},
   "source": [
    "#### Theory Questions "
   ]
  },
  {
   "cell_type": "markdown",
   "metadata": {},
   "source": [
    "1\\. What is an algorithm? A sequence of steps such as a recipe or a movie script.\n",
    "\n",
    "As a movie viewer, please write an algorithm for a process to \"see a movie\". Include details of the following for example (add additional information yourself):\n",
    "\t- The start conditions \n",
    "\t-- I want to watch a movie\n",
    "\t- Roles (people/actors involved) \n",
    "    --watcher, ticket seller etc \n",
    "    -Equipment required (\"props\")\n",
    "    --seats, ticket etc\n",
    "    - The scenes \n",
    "    -- scene 1 - buy ticket \n",
    "    -- ??? what happens next\n",
    "    -- scene 3, scene 3 ...\n",
    "    - Results/outcomes\n",
    "    -- ?\n"
   ]
  },
  {
   "cell_type": "markdown",
   "metadata": {},
   "source": [
    "_your answer here..._ \n",
    "The start conditions \n",
    "a. I want to see a film \n",
    "b. I have enough money to buy the ticket\n",
    "Roles Me, conductor, teller, actors\n",
    "Equipment required Seats, ticket, screen, vedio carmeras, money, popcorn\n",
    "The scenes Scene One: Buy a ticket a. I went to the ticket office. b. I gave money to conductor and she gave me the ticket. Scene Two: Go to the cinema a. The ticket inspector checked my ticket and asked me to enter the cinema. b. I found me seat and sat down to wait for the movie. Scene Three: Watch the movie a. The movie started. b. I enjoyed the movie plot. Scene Four: The movie is finished a. The film is over. b. I left cinema.\n",
    "Results a. I was happy b. I spent money c. The cinema and movie earned money."
   ]
  },
  {
   "cell_type": "markdown",
   "metadata": {},
   "source": [
    "2\\. A farmer with his wolf, duck and bag of corn come to the east side of a river they wish to cross. There is a boat at the rivers edge, but of course only the farmer can row. The boat can only hold two things (including the rower) at any one time. If the wolf is ever left alone with the duck, the wolf will eat it. Similarly if the duck is ever left alone with the corn, the duck will eat it. How can the farmer get across the river so that all four arrive safely on the other side? "
   ]
  },
  {
   "cell_type": "markdown",
   "metadata": {},
   "source": [
    "_your answer here..._ \n",
    "\n",
    "1. The farmer get across the river holding his duck and leave the duck to the west side.\n",
    "2. the farmer come back to the east side alone.\n",
    "3. the famer get across the river holding his corn and leave the corn to the west side.\n",
    "4. the farmer come back holding his duck to the east side and leave the duck to the east side.\n",
    "5. the farmer get across the river holding his wolf and leave the wolf to the west side.\n",
    "6. the farmer come back to the east side alone.\n",
    "7. the farmer get across the river holding his duck and leave the duck to the west side."
   ]
  },
  {
   "cell_type": "markdown",
   "metadata": {},
   "source": [
    " "
   ]
  },
  {
   "cell_type": "markdown",
   "metadata": {},
   "source": [
    "3\\.Explain why we determine our problem goals before we write the problem formulation (including the model and deciding what algorithm or techniques to use - for example search, or other method).\n",
    "\n",
    "See Chapter3.1 (Russel & Norvig)"
   ]
  },
  {
   "cell_type": "markdown",
   "metadata": {},
   "source": [
    "_your answer here..._ \n",
    "In the goal setting, we determine what we are interested in and what can be ignored. Then in the problem formula we decide how to manipulate important aspects while ignoring other aspects. If we first develop the problem, we will not know what to include and what to miss. That is to say, there may be a set of iterations between problem formulation and problem solving until a sufficiently useful and effective solution is reached.\n"
   ]
  },
  {
   "cell_type": "markdown",
   "metadata": {},
   "source": [
    "4\\. This question requires you to perform BFS and DFS on paper.\n",
    "\n",
    "<img src=\"img/p1.png\" width=\"180\" height=\"180\" >\n",
    "\n",
    "1. Simulate (on pencil-and-paper) breadth-first search starting from node A when the goal node is K.\n",
    "2. Simulate (on pencil-and-paper) depth first search starting from node A when the goal node is I.\n"
   ]
  },
  {
   "cell_type": "markdown",
   "metadata": {},
   "source": [
    "1. _your answer here..._ \n",
    "A:[B], B:[C,D], C:[D, E, F], D:[E, F, H, G], E:[F, H, G], F:[H, G], H:[G, K, I], G:[K, I], K=GOAL\n",
    "2. _your answer here..._ \n",
    "A:[B], B:[C, D], C:[E, G, D], E:[F, D], F:[D], D:[H, G], H:[I, K ,G], I=GOAL\n"
   ]
  },
  {
   "cell_type": "markdown",
   "metadata": {},
   "source": [
    "5\\.Consider a state space where the start state is number 1 and each state  k has two successors: numbers 2k and 2k + 1.\n",
    "- a. Draw the portion of the state space for states 1 to 15.\n",
    "- b. Suppose the goal state is 11. List the order in which nodes will be visited for breadthfirst\n",
    "search, depth-limited search with limit 3, and iterative deepening search.\n",
    "- c. How well would bidirectional search work on this problem? What is the branching\n",
    "factor in each direction of the bidirectional search?\n",
    "- d. Does the answer to (c) suggest a reformulation of the problem that would allow you to\n",
    "solve the problem of getting from state 1 to a given goal state with almost no search?\n",
    "- e. Call the action going from k to 2k Left, and the action going to 2k + 1 Right. Can you\n",
    "find an algorithm that outputs the solution to this problem without any search at all?\n",
    "\n",
    "See textbook Chapter3.15"
   ]
  },
  {
   "cell_type": "markdown",
   "metadata": {},
   "source": [
    "_your answer here..._ \n",
    "a.                            1\n",
    "                        /            \\\n",
    "                    2                  3\n",
    "                  /    \\             /    \\\n",
    "              4          5         6        7\n",
    "             /  \\       /  \\      /  \\     /  \\          \n",
    "           8     9    10   11    12  13   14  15     \n",
    "b. BFS: 1 2 3 4 5 6 7 8 9 10 11\n",
    "   DFS: 1 2 4 8 9 5 10 11\n",
    "   IDS: 1; 1 2 3; 1 2 4 5 3 6 7 ; 1 2 4 8 9 5 10 11\n",
    "c. It is useful. The only successor of n in the reverse direction is n/2 which helps focus the search. The branching factor is 2 in the forward direction; 1 in the reverse direction\n",
    "d. Yes.getting from 1 and apply the single reverse successor action until you reach 1.\n",
    "e. Read off the binary numeral for thee goal number. We can only reach positive integers, this binary expansion begins with a 1. From most to least significant bit, skipping the initial 1, go left to the node 2n if this bit is 0 and go right to node 2n+1 if it is 1."
   ]
  },
  {
   "cell_type": "markdown",
   "metadata": {},
   "source": [
    "### Programming Excercises"
   ]
  },
  {
   "cell_type": "markdown",
   "metadata": {},
   "source": [
    "1\\.Write a program to solve a classic ancient Chinese puzzle:  \n",
    " We count 35 heads and 94 legs among the chickens and rabbits in a farm. How many rabbits and how many chickens do we have? "
   ]
  },
  {
   "cell_type": "code",
   "execution_count": 6,
   "metadata": {},
   "outputs": [
    {
     "name": "stdout",
     "output_type": "stream",
     "text": [
      "There are 12 rabbits and 23 chickens\n"
     ]
    }
   ],
   "source": [
    "for x in range(1,35):\n",
    "    y = 35 - x\n",
    "    if 4*x + 2*y == 94:\n",
    "        print('There are %s rabbits and %s chickens'%(x, y))"
   ]
  },
  {
   "cell_type": "markdown",
   "metadata": {},
   "source": [
    "2\\. _Social networking_ Please look at the graph below of social relationships. You have a mango farm, you need to find a mango buyer and sell him your mango that you have grown (just a small farm). To this end, our principle is to use our social network of friends separated by one degree, and then second degree friends (friends of friends), third degree friends (friends of friends of friends).\n",
    "\n",
    "Use the depth first algorithm to search your network until you find a mango seller. \n",
    "\n",
    "We make an assumption that if the person's name ends with m, then it means the person must be the mango seller!\n",
    "\n",
    "\n",
    "<img src=\"img/p3.png\" width=\"500\" height=\"400\" >"
   ]
  },
  {
   "cell_type": "markdown",
   "metadata": {},
   "source": [
    "## write your answer here!\n",
    "you:{A,B,C}\n",
    "B:{C,D,E……}\n",
    "C：{……}\n",
    "生成一个新的链表。其实原则就是你只能找到你自己的朋友，由你的朋友去找他的朋友，不能你去直接找别人的朋友"
   ]
  },
  {
   "cell_type": "code",
   "execution_count": 273,
   "metadata": {},
   "outputs": [
    {
     "name": "stdout",
     "output_type": "stream",
     "text": [
      "{'5': 'peggy', '4': 'anuj'}\n",
      "peggy\n",
      "anuj\n",
      "{'7': 'jonny', '8': 'thom'}\n",
      "jonny\n",
      "thom\n",
      "5\n",
      "{'6': 'peggy'}\n",
      "peggy\n"
     ]
    }
   ],
   "source": [
    "you = {'1': bob, '2': alice, '3':claire}\n",
    "for value in you.values():\n",
    "    print(value)\n",
    "    for value in value.values():\n",
    "        print(value)\n",
    "        if value == 'thom':\n",
    "            print (key)        \n",
    "bob = {'4':'anuj','5':'peggy'}\n",
    "alice={'6':'peggy'}\n",
    "claire={'7':'jonny', '8':'thom'}"
   ]
  },
  {
   "cell_type": "markdown",
   "metadata": {},
   "source": [
    "\n",
    "3\\. Depth First traverse：Use depth first traversal to traverse all the DLL files on the C disk and output the file names.\n",
    "\n",
    "Update your code to search for a particular filename.\n",
    "\n",
    "What protocol did you use to select the next node to expand on the fringe?"
   ]
  },
  {
   "cell_type": "code",
   "execution_count": 43,
   "metadata": {},
   "outputs": [],
   "source": [
    "import os\n",
    "import fnmatch\n",
    "stack = []\n",
    "stack.append('C:\\\\')\n",
    "while stack!=[]:\n",
    "    top = stack[0]\n",
    "    stack.pop(0)\n",
    "    # find children of a node\n",
    "    try:\n",
    "        children = os.listdir(top)\n",
    "    except:\n",
    "        pass\n",
    "    for child in children:\n",
    "        # each node is a path\n",
    "        childPath = os.path.join(top, child)\n",
    "        if os.path.isdir(childPath):\n",
    "            stack.insert(0, childPath)\n",
    "        # fringe\n",
    "        elif os.path.isfile(childPath):\n",
    "            if fnmatch.fnmatch(child, '*.dll'):\n",
    "                print(child)\n"
   ]
  },
  {
   "cell_type": "markdown",
   "metadata": {},
   "source": [
    "4\\.\n",
    "Breadth First traverse：Use breadth traversal to traverse all the DLL files on the C disk and output the filename.\n",
    "\n",
    "Update your code to search for a particular filename."
   ]
  },
  {
   "cell_type": "code",
   "execution_count": null,
   "metadata": {},
   "outputs": [],
   "source": [
    "import os\n",
    "import fnmatch\n",
    "queue = []\n",
    "queue.append('C:\\\\')\n",
    "while queue!=[]:\n",
    "    top = queue[0]\n",
    "    queue.pop(0)\n",
    "    # find children of a node\n",
    "    try:\n",
    "        children = os.listdir(top)\n",
    "    except:\n",
    "        pass\n",
    "    for child in children:\n",
    "        # each node is a path\n",
    "        childPath = os.path.join(top, child)\n",
    "        if os.path.isdir(childPath):\n",
    "            queue.append(childPath)\n",
    "        elif os.path.isfile(childPath):\n",
    "            if fnmatch.fnmatch(child, '*.dll'):\n",
    "                print(child)"
   ]
  },
  {
   "cell_type": "markdown",
   "metadata": {},
   "source": [
    "5\\. Uniform cost search"
   ]
  },
  {
   "cell_type": "markdown",
   "metadata": {},
   "source": [
    "Consider a state space where the start state is 2 and each state k has three successors: numbers 2k, 2k+1, 2k+2. The cost from state k to each respective child is k, ground(k/2), k+2.\n",
    "\n",
    "can you implement a uniform-cost-search algorithm with python. The goal state is number 85."
   ]
  },
  {
   "cell_type": "code",
   "execution_count": 1,
   "metadata": {},
   "outputs": [],
   "source": [
    "def successors(k):\n",
    "    return[[2*k, k], [2*k+1, int(k/2)], [2*k+2, k+2]]\n",
    "\n",
    "queue = []\n",
    "queue.append([2, 0])\n",
    "path = []\n",
    "while queue!=[]:\n",
    "    top = queue[0]\n",
    "    path.append(top)\n",
    "    if top[0] == 85:\n",
    "        break\n",
    "    queue.pop(0)\n",
    "    children = sorted(successors(top[0]), key=lambda c: c[1])\n",
    "    for child in children:\n",
    "        queue.append(child)\n",
    "print(path)"
   ]
  },
  {
   "cell_type": "markdown",
   "metadata": {},
   "source": [
    "6\\.a* question"
   ]
  },
  {
   "cell_type": "markdown",
   "metadata": {},
   "source": [
    "A cute cat stays in the A position, he is hungry. But the food is placed in the B position. Can you help him to find the food? \n",
    "Hint:  The problem isn't easy. It's essential for you to understand the A* algorithm before you solve this problem. Then, you can use some thought of Node in java, when you are in code.\n",
    "\n",
    "<img src=\"img/p4.png\" width=\"500\" height=\"400\" >\n"
   ]
  },
  {
   "cell_type": "code",
   "execution_count": null,
   "metadata": {},
   "outputs": [],
   "source": [
    "## write your answer here!\n"
   ]
  }
 ],
 "metadata": {
  "kernelspec": {
   "display_name": "Python 3",
   "language": "python",
   "name": "python3"
  },
  "language_info": {
   "codemirror_mode": {
    "name": "ipython",
    "version": 3
   },
   "file_extension": ".py",
   "mimetype": "text/x-python",
   "name": "python",
   "nbconvert_exporter": "python",
   "pygments_lexer": "ipython3",
   "version": "3.5.5"
  }
 },
 "nbformat": 4,
 "nbformat_minor": 2
}
